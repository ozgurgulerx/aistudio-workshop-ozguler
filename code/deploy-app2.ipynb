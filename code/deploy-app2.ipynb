{
 "cells": [
  {
   "cell_type": "markdown",
   "metadata": {},
   "source": [
    "# Deploying App2 Creative Writing Asisstant as an API \n",
    "\n",
    "We will now deloy the promptflow flow to Azure App Service as an API and later create a Flask App to interact with the API.\n",
    "\n",
    "\n",
    "## Deploy to Azure App Service\n",
    "\n",
    "Azure App Service is an HTTP-based platform designed for hosting web applications, REST APIs, and mobile backends. The provided scripts (deploy.sh for bash and deploy.ps1 for PowerShell) in this folder facilitate the deployment of the Docker image to Azure App Service.\n",
    "\n",
    "This example demonstrates how to deploy a web classification application using Azure App Service.\n",
    "\n",
    "\n",
    "\n",
    "\n",
    "\n",
    "\n",
    "\n"
   ]
  }
 ],
 "metadata": {
  "kernelspec": {
   "display_name": "Python 3",
   "language": "python",
   "name": "python3"
  },
  "language_info": {
   "name": "python",
   "version": "3.11.9"
  }
 },
 "nbformat": 4,
 "nbformat_minor": 2
}
