{
 "cells": [
  {
   "cell_type": "markdown",
   "metadata": {},
   "source": [
    "# First App with PF SDK \n",
    "\n",
    "Prompty is announced at MS Build 2024, intends to turn prompts to coding assets. Prompty is designed to simplify the development of prompt templates.\n",
    "*(Refer to [Prompty.md] for more information...)*\n",
    "\n",
    "Make sure .env file is created in the same folder and includes the AzureOpenAI endpoint and key details in it.\n"
   ]
  },
  {
   "cell_type": "code",
   "execution_count": 49,
   "metadata": {},
   "outputs": [],
   "source": [
    "import os\n",
    "import sys\n",
    "import logging \n",
    "from dotenv import load_dotenv\n",
    "from pathlib import Path\n",
    "from promptflow.tracing import trace, start_trace\n",
    "from promptflow.core import Prompty\n"
   ]
  },
  {
   "cell_type": "code",
   "execution_count": 50,
   "metadata": {},
   "outputs": [
    {
     "name": "stdout",
     "output_type": "stream",
     "text": [
      "/Users/ozgurguler/Developer/Projects/aistudio-workshop-ozguler/code\n"
     ]
    }
   ],
   "source": [
    "\n",
    "BASE_DIR = Path(os.getcwd()).absolute()\n",
    "print(BASE_DIR)\n",
    "# determines the path to the directory containing the current script file and stores it in the variable BASE_DIR"
   ]
  },
  {
   "cell_type": "code",
   "execution_count": 51,
   "metadata": {},
   "outputs": [],
   "source": [
    "@trace\n",
    "def chat(question: str = \"What's the capital of France?\") -> str:\n",
    "    \"\"\"Flow entry function.\"\"\"\n",
    "\n",
    "    if \"OPENAI_API_KEY\" not in os.environ and \"AZURE_OPENAI_API_KEY\" not in os.environ:\n",
    "        # load environment variables from .env file\n",
    "        load_dotenv()\n",
    "\n",
    "    prompty = Prompty.load(source=BASE_DIR / \"chat.prompty\")\n",
    "    # trigger a llm call with the prompty obj\n",
    "    output = prompty(question=question)\n",
    "    return output"
   ]
  },
  {
   "cell_type": "markdown",
   "metadata": {},
   "source": [
    "The chat function, decorated with @trace for logging or monitoring, checks if specific API keys are set in the environment. If not, it loads them from a .env file. It then loads a Prompty object from a chat.prompty file and uses this object to call a language model with the provided question, returning the model’s response."
   ]
  },
  {
   "cell_type": "code",
   "execution_count": 53,
   "metadata": {},
   "outputs": [
    {
     "name": "stdout",
     "output_type": "stream",
     "text": [
      "Prompt flow service has started...\n",
      "Quantum entanglement is a phenomenon in quantum physics where two or more particles become connected in such a way that the state of one particle is dependent on the state of the other, regardless of the distance between them. This means that measuring the state of one particle instantly determines the state of the other, even if they are separated by vast distances. This concept is often referred to as \"spooky action at a distance\" and has been experimentally verified. Quantum entanglement is a fundamental aspect of quantum mechanics and has implications for various fields such as quantum computing and cryptography.\n"
     ]
    }
   ],
   "source": [
    "if 'ipykernel' in sys.modules:\n",
    "    from promptflow.tracing import start_trace\n",
    "    start_trace()\n",
    "    result = chat(\"What is quantum entanglement?\")\n",
    "    print(result)"
   ]
  },
  {
   "cell_type": "markdown",
   "metadata": {},
   "source": [
    "The code block checks if the script is being run inside a Jupyther notebook. It then imports start_trace from promptflow.tracing and calls it to begin tracing. Finally, it calls the chat function with the question “What is quantum entanglement?” and prints the result."
   ]
  },
  {
   "cell_type": "markdown",
   "metadata": {},
   "source": [
    "When run as a script, (flow.py under the Code folder) , the code returns a tracing URL.\n",
    "![Alt text](../media/77.png)\n",
    "\n",
    "You can copy the tracing URL given and visit the URL with your browser...\n",
    "![Alt text](../media/78.png)\n",
    "\n",
    "[Home](../README.md)"
   ]
  }
 ],
 "metadata": {
  "kernelspec": {
   "display_name": "pf",
   "language": "python",
   "name": "python3"
  },
  "language_info": {
   "codemirror_mode": {
    "name": "ipython",
    "version": 3
   },
   "file_extension": ".py",
   "mimetype": "text/x-python",
   "name": "python",
   "nbconvert_exporter": "python",
   "pygments_lexer": "ipython3",
   "version": "3.9.6"
  }
 },
 "nbformat": 4,
 "nbformat_minor": 2
}
