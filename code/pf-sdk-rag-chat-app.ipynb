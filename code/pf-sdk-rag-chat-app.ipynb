{
 "cells": [
  {
   "cell_type": "markdown",
   "metadata": {},
   "source": [
    "# RAG CHAT APP with PROMPTFLOW SDK \n",
    "\n",
    "Next we will build a chatbot using the RAG model and the PromptFlow SDK.\n"
   ]
  },
  {
   "cell_type": "code",
   "execution_count": 1,
   "metadata": {},
   "outputs": [
    {
     "name": "stdout",
     "output_type": "stream",
     "text": [
      "{\n",
      "  \"promptflow\": \"1.11.0\",\n",
      "  \"promptflow-core\": \"1.11.0\",\n",
      "  \"promptflow-devkit\": \"1.11.0\",\n",
      "  \"promptflow-tracing\": \"1.11.0\"\n",
      "}\n",
      "\n",
      "Executable '/opt/homebrew/opt/python@3.11/bin/python3.11'\n",
      "Python (Darwin) 3.11.9 (main, Apr  2 2024, 08:25:04) [Clang 15.0.0 (clang-1500.3.9.4)]\n"
     ]
    }
   ],
   "source": [
    "# Confirm Promptflow is installed\n",
    "\n",
    "!pf -v\n"
   ]
  },
  {
   "cell_type": "code",
   "execution_count": null,
   "metadata": {},
   "outputs": [],
   "source": [
    "# Create a new flow...\n",
    "\n",
    "!pf flow init --flow flow02"
   ]
  }
 ],
 "metadata": {
  "kernelspec": {
   "display_name": "Python 3",
   "language": "python",
   "name": "python3"
  },
  "language_info": {
   "codemirror_mode": {
    "name": "ipython",
    "version": 3
   },
   "file_extension": ".py",
   "mimetype": "text/x-python",
   "name": "python",
   "nbconvert_exporter": "python",
   "pygments_lexer": "ipython3",
   "version": "3.11.9"
  }
 },
 "nbformat": 4,
 "nbformat_minor": 2
}
