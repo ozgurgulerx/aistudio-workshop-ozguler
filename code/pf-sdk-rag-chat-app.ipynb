{
 "cells": [
  {
   "cell_type": "markdown",
   "metadata": {},
   "source": [
    "# RAG CHAT APP with PROMPTFLOW SDK \n"
   ]
  }
 ],
 "metadata": {
  "language_info": {
   "name": "python"
  }
 },
 "nbformat": 4,
 "nbformat_minor": 2
}
