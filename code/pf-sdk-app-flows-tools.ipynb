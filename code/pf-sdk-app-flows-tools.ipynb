{
 "cells": [
  {
   "cell_type": "markdown",
   "metadata": {},
   "source": [
    "# Write an App with PromptFlow SDK that leverages a complex flow with multiple steps and Tools \n",
    "\n",
    "In this part of the workshop we will build a more sophisticated app leveraging different flow types and tools on promptflow..."
   ]
  },
  {
   "cell_type": "markdown",
   "metadata": {},
   "source": [
    "## Create a Flow \n",
    "You can create LLM apps using a Python function or class as the entry point, which encapsulating your app logic. You can directly test or run these entries with pure code experience."
   ]
  },
  {
   "cell_type": "code",
   "execution_count": 4,
   "metadata": {
    "vscode": {
     "languageId": "shellscript"
    }
   },
   "outputs": [
    {
     "name": "stdout",
     "output_type": "stream",
     "text": [
      "{\n",
      "  \"promptflow\": \"1.11.0\",\n",
      "  \"promptflow-core\": \"1.11.0\",\n",
      "  \"promptflow-devkit\": \"1.11.0\",\n",
      "  \"promptflow-tracing\": \"1.11.0\"\n",
      "}\n",
      "\n",
      "Executable '/opt/homebrew/opt/python@3.11/bin/python3.11'\n",
      "Python (Darwin) 3.11.9 (main, Apr  2 2024, 08:25:04) [Clang 15.0.0 (clang-1500.3.9.4)]\n"
     ]
    }
   ],
   "source": [
    "# Confirm Promptflow is installed\n",
    "\n",
    "!pf -v\n"
   ]
  },
  {
   "cell_type": "code",
   "execution_count": 7,
   "metadata": {
    "vscode": {
     "languageId": "shellscript"
    }
   },
   "outputs": [
    {
     "name": "stdout",
     "output_type": "stream",
     "text": [
      "Creating flow from scratch...\n",
      "Creating hello.py...\n",
      "Creating data.jsonl...\n",
      "Creating .promptflow folder...\n",
      "Creating __pycache__ folder...\n",
      "Creating flow.dag.yaml...\n",
      "Creating hello.jinja2...\n",
      "Creating /Users/ozgurguler/Developer/Projects/aistudio-workshop-ozguler/code/flow01/requirements.txt...\n",
      "Creating /Users/ozgurguler/Developer/Projects/aistudio-workshop-ozguler/code/flow01/.gitignore...\n",
      "Done. Created standard flow folder: /Users/ozgurguler/Developer/Projects/aistudio-workshop-ozguler/code/flow01.\n",
      "You can execute this command to test the flow, pf flow test --flow flow01 --input flow01/data.jsonl\n"
     ]
    }
   ],
   "source": [
    "# Create a new flow...\n",
    "\n",
    "!pf flow init --flow flow01"
   ]
  },
  {
   "cell_type": "markdown",
   "metadata": {},
   "source": [
    "When we run \"flow init\", it creates a folder with name matching flows name (in this case flow01 folder) with necessary files in it.\n",
    "\n",
    "![Alt text](../media/80.png)\n",
    "\n",
    "Structure of the flow folder:\n",
    "\n",
    "- flow.dag.yaml: The flow definition with inputs/outputs, nodes, tools and variants for authoring purpose. \\\n",
    "It defines the structure and logic of the flow, specifying how different tools are connected and how data is passed between them. \\\n",
    "While defining the flow implicitly in app.py is possible, using a flow.yaml file provides several benefits, including better separation of concerns,\\\n",
    "improved readability and maintainability, enhanced reusability and modularity, and a more declarative approach to defining workflows.\\\n",
    "This separation allows for a cleaner, more organized,\n",
    "\n",
    "\n",
    "- .promptflow/flow.tools.json:  contains the tools meta referenced in flow.dag.yaml.\n",
    "- Source code files (.py, .jinja2): User managed, the code scripts referenced by **tools**.\n",
    "- requirements.txt: Python package dependencies for this flow."
   ]
  },
  {
   "cell_type": "markdown",
   "metadata": {},
   "source": [
    "*(If the PromptFlow extension is installed, you can do CMD + K, V to visualise the flow as in the PromptFlow web UI like below.)*\n",
    "\n",
    "![Alt text](../media/81.png)"
   ]
  },
  {
   "cell_type": "markdown",
   "metadata": {},
   "source": []
  },
  {
   "cell_type": "markdown",
   "metadata": {},
   "source": [
    "We now have the flow skeleton in place, previously created with the *'flow init'* command. \\\n",
    "We will modify the flow so that it has a Python tool step which runs the Prompty file reflecting the recent updates to prompt management in Build,24. \\\n",
    "Let's now update the flow.dag.yaml so that it simply leverages a **python tool** that loads and runs the prompty.prompty. \n",
    "\n",
    "Below is the prompty file for creative writing. (make sure your AOAI endpoint crendtials and base url are added to the .env file in the folder where prompty file is stored.)\n",
    "creative_writing_assistant.prompty is saved under code/flow01 which you can copy from.\n",
    "\n",
    "\n",
    "![Alt text](../media/82.png)"
   ]
  }
 ],
 "metadata": {
  "kernelspec": {
   "display_name": "Python 3",
   "language": "python",
   "name": "python3"
  },
  "language_info": {
   "codemirror_mode": {
    "name": "ipython",
    "version": 3
   },
   "file_extension": ".py",
   "mimetype": "text/x-python",
   "name": "python",
   "nbconvert_exporter": "python",
   "pygments_lexer": "ipython3",
   "version": "3.11.9"
  }
 },
 "nbformat": 4,
 "nbformat_minor": 2
}
