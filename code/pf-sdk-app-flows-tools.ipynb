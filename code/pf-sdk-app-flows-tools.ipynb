{
 "cells": [
  {
   "cell_type": "markdown",
   "metadata": {},
   "source": [
    "# Write an App with PromptFlow SDK that leverages a complex flow with multiple steps and Tools \n",
    "\n",
    "In this part of the workshop we will build a more sophisticated app leveraging different flow types and tools on promptflow..."
   ]
  },
  {
   "cell_type": "markdown",
   "metadata": {},
   "source": [
    "## Create a Flow \n",
    "You can create LLM apps using a Python function or class as the entry point, which encapsulating your app logic. You can directly test or run these entries with pure code experience."
   ]
  },
  {
   "cell_type": "code",
   "execution_count": 4,
   "metadata": {
    "vscode": {
     "languageId": "shellscript"
    }
   },
   "outputs": [
    {
     "name": "stdout",
     "output_type": "stream",
     "text": [
      "{\n",
      "  \"promptflow\": \"1.11.0\",\n",
      "  \"promptflow-core\": \"1.11.0\",\n",
      "  \"promptflow-devkit\": \"1.11.0\",\n",
      "  \"promptflow-tracing\": \"1.11.0\"\n",
      "}\n",
      "\n",
      "Executable '/opt/homebrew/opt/python@3.11/bin/python3.11'\n",
      "Python (Darwin) 3.11.9 (main, Apr  2 2024, 08:25:04) [Clang 15.0.0 (clang-1500.3.9.4)]\n"
     ]
    }
   ],
   "source": [
    "# Confirm Promptflow is installed\n",
    "\n",
    "!pf -v\n"
   ]
  },
  {
   "cell_type": "code",
   "execution_count": 7,
   "metadata": {
    "vscode": {
     "languageId": "shellscript"
    }
   },
   "outputs": [
    {
     "name": "stdout",
     "output_type": "stream",
     "text": [
      "Creating flow from scratch...\n",
      "Creating hello.py...\n",
      "Creating data.jsonl...\n",
      "Creating .promptflow folder...\n",
      "Creating __pycache__ folder...\n",
      "Creating flow.dag.yaml...\n",
      "Creating hello.jinja2...\n",
      "Creating /Users/ozgurguler/Developer/Projects/aistudio-workshop-ozguler/code/flow01/requirements.txt...\n",
      "Creating /Users/ozgurguler/Developer/Projects/aistudio-workshop-ozguler/code/flow01/.gitignore...\n",
      "Done. Created standard flow folder: /Users/ozgurguler/Developer/Projects/aistudio-workshop-ozguler/code/flow01.\n",
      "You can execute this command to test the flow, pf flow test --flow flow01 --input flow01/data.jsonl\n"
     ]
    }
   ],
   "source": [
    "# Create a new flow...\n",
    "\n",
    "!pf flow init --flow flow01"
   ]
  },
  {
   "cell_type": "markdown",
   "metadata": {},
   "source": [
    "When we run \"flow init\", it creates a folder with name matching flows name (in this case flow01 folder) with necessary files in it.\n",
    "\n",
    "![Alt text](../media/80.png)\n",
    "\n",
    "Structure of the flow folder:\n",
    "\n",
    "- flow.dag.yaml: The flow definition with inputs/outputs, nodes, tools and variants for authoring purpose. \\\n",
    "It defines the structure and logic of the flow, specifying how different tools are connected and how data is passed between them. \\\n",
    "While defining the flow implicitly in app.py is possible, using a flow.yaml file provides several benefits, including better separation of concerns,\\\n",
    "improved readability and maintainability, enhanced reusability and modularity, and a more declarative approach to defining workflows.\\\n",
    "This separation allows for a cleaner, more organized,\n",
    "\n",
    "- .promptflow/flow.tools.json:  contains the tools meta referenced in flow.dag.yaml. We will only run prompty files in this section, which only leverage AzureOpenAI connections defined in .env.\n",
    "Later we will add sections as to how promptflow can leverage LLM connections within AzureAI Studio Hub. However not included in this section.\n",
    "\n",
    "- Source code files (.py, .jinja2): User managed, the code scripts referenced by **tools**.\n",
    "\n",
    "- requirements.txt: Python package dependencies for this flow."
   ]
  },
  {
   "cell_type": "markdown",
   "metadata": {},
   "source": [
    "*(If the PromptFlow extension is installed, you can do CMD + K, V to visualise the flow as in the PromptFlow web UI like below.)*\n",
    "\n",
    "![Alt text](../media/81.png)"
   ]
  },
  {
   "cell_type": "markdown",
   "metadata": {},
   "source": []
  },
  {
   "cell_type": "markdown",
   "metadata": {},
   "source": [
    "We now have the flow skeleton in place, previously created with the *'flow init'* command. \\\n",
    "We will modify the flow so that it has a Python tool step which runs the Prompty file reflecting the recent updates to prompt management in Build,24. \\\n",
    "Let's now update the flow.dag.yaml so that it simply leverages a **python tool** that loads and runs the prompty.prompty. \n",
    "\n",
    "Below is the prompty file for to generate creative writing pieces. \n",
    "(make sure your AOAI endpoint crendtials and base url are added to the .env file in the folder where prompty file is stored.)\n",
    "\n",
    "*creative_writing_assistant.prompty is saved under code/flow01 which you can copy from.*\n",
    "\n",
    "```\n",
    "---\n",
    "name: Creative Writing Assistant\n",
    "description: Generate creative writing prompts and outlines based on a theme.\n",
    "model:\n",
    "  api: chat\n",
    "  configuration:\n",
    "    type: azure_openai\n",
    "    azure_deployment: gpt-35-turbo-16k-ozguler04\n",
    "  parameters:\n",
    "    temperature: 0.7\n",
    "    max_tokens: 2000\n",
    "inputs:\n",
    "  theme:\n",
    "    type: string\n",
    "sample:\n",
    "  theme: \"Mystery and Adventure\"\n",
    "---\n",
    "\n",
    "system:\n",
    "You are an imaginative and supportive creative writing assistant. \n",
    "Your task is to help users generate intriguing writing prompts and provide a brief story outline based on the given theme.\n",
    "\n",
    "user:\n",
    "Theme: {{theme}}\n",
    "\n",
    "assistant:\n",
    "Here is an interesting writing prompt based on the theme \"{{theme}}\":\n",
    "[Generate a complete story here, including an introduction, conflict, rising action, climax, falling action, and resolution, without explicitly labeling these sections.]\n",
    "```\n"
   ]
  },
  {
   "cell_type": "markdown",
   "metadata": {},
   "source": [
    "## Updating the flow.dag.yaml \n",
    "Although we ran the prompty file as a chat app in \"first-pf-sdk-notebook.ipynb\", we will build a more complex app step by step in this notebook. \\\n",
    "Our app will receive a \"theme\" from the user and generate a creative writing piece with users theme. \\\n",
    "\n",
    "Let's start with updating the flow.dag.yaml which to loads and runs the prompty as a promptflow tool. \\\n",
    "*(Refer to the documentation [Using prompty in a flow](https://microsoft.github.io/promptflow/how-to-guides/develop-a-prompty/use-prompty-in-flow.html?highlight=prompty) for more details.)*\n",
    "\n",
    "flow.dag.yaml will accept the \"theme\" as input and will have a single \"node\", a python tool, that will load and run our prompty file. \\\n",
    "copy & paste the below .yaml into flow.dag.yaml.\n",
    "\n",
    "```\n",
    "$schema: https://azuremlschemas.azureedge.net/promptflow/latest/Flow.schema.json\n",
    "environment:\n",
    "  python_requirements_txt: requirements.txt\n",
    "inputs:\n",
    "  theme:\n",
    "    type: string\n",
    "outputs:\n",
    "  output_story:\n",
    "    type: string\n",
    "    reference: ${create_story.output}\n",
    "nodes:\n",
    "- name: create_story\n",
    "  type: python\n",
    "  source:\n",
    "    type: code\n",
    "    path: create_story.py\n",
    "  inputs:\n",
    "    theme: ${inputs.theme}\n",
    "```"
   ]
  },
  {
   "cell_type": "markdown",
   "metadata": {},
   "source": [
    "## Write the Python 'tool' that will load and execute the Prompty file \n",
    "\n",
    "```\n",
    "from promptflow.core import Prompty, tool\n",
    "from dotenv import load_dotenv\n",
    "import os\n",
    "\n",
    "# Load environment variables if not already set\n",
    "if \"OPENAI_API_KEY\" not in os.environ and \"AZURE_OPENAI_API_KEY\" not in os.environ:\n",
    "    load_dotenv()\n",
    "\n",
    "@tool\n",
    "def create_story(theme: str) -> str:\n",
    "    current_dir = os.path.dirname(os.path.abspath(__file__))\n",
    "    prompty_file_path = os.path.join(current_dir, \"creative_writing_assistant.prompty\")\n",
    "    print(prompty_file_path)\n",
    "\n",
    "    # Load prompty as a flow\n",
    "    prompty_flow = Prompty.load(prompty_file_path)\n",
    "    result = prompty_flow(theme=theme)\n",
    "    \n",
    "    return result\n",
    "\n",
    "if __name__ == \"__main__\":\n",
    "    import json\n",
    "    import sys\n",
    "\n",
    "    json_input = sys.argv[1]  # Assume the input is passed as a JSON string\n",
    "    args = json.loads(json_input)\n",
    "\n",
    "    result = create_story(**args)\n",
    "    print(result)\n",
    "```\n",
    "This Python script utilizes the promptflow library to create a story based on a given theme. \\\n",
    "The create_story function is defined as a tool, which reads a .prompty file containing the flow for creative writing,\\\n",
    "executes this flow with the provided theme, and returns the generated story. \\\n",
    "\n",
    "Save the file as **create_story.py** so that it matches the .py file name previously defined in the flow.dag.yaml. \\\n",
    "Next let's run the flow..."
   ]
  },
  {
   "cell_type": "markdown",
   "metadata": {},
   "source": []
  },
  {
   "cell_type": "code",
   "execution_count": 41,
   "metadata": {
    "vscode": {
     "languageId": "shellscript"
    }
   },
   "outputs": [
    {
     "name": "stdout",
     "output_type": "stream",
     "text": [
      "[2024-05-31 09:45:14 +0300][promptflow][INFO] - pf.config.trace.destination: None\n",
      "[2024-05-31 09:45:14 +0300][promptflow][INFO] - resolved tracing.trace.destination: None\n",
      "Prompt flow service has started...\n",
      "[2024-05-31 09:45:14 +0300][promptflow][INFO] - tracer provider is already set, will merge the resource attributes...\n",
      "[2024-05-31 09:45:14 +0300][promptflow][INFO] - tracer provider is updated with resource attributes: BoundedAttributes({'service.name': 'promptflow', 'collection': 'flow01'}, maxlen=None)\n",
      "[2024-05-31 09:45:14 +0300][promptflow][INFO] - have not set exporter to prompt flow service, will set it...\n",
      "[2024-05-31 09:45:14 +0300][promptflow][INFO] - tracer provider is already set, will merge the resource attributes...\n",
      "[2024-05-31 09:45:14 +0300][promptflow][INFO] - tracer provider is updated with resource attributes: BoundedAttributes({'service.name': 'promptflow', 'collection': 'flow01'}, maxlen=None)\n",
      "[2024-05-31 09:45:14 +0300][promptflow][INFO] - exporter to prompt flow service is already set, no action needed.\n",
      "[2024-05-31 09:45:15 +0300][promptflow][INFO] - flow input(s): {'theme': 'Mystery and Adventure'}\n",
      "[2024-05-31 09:45:15 +0300][promptflow][INFO] - tracer provider is already set, will merge the resource attributes...\n",
      "[2024-05-31 09:45:15 +0300][promptflow][INFO] - tracer provider is updated with resource attributes: BoundedAttributes({'service.name': 'promptflow', 'collection': 'flow01'}, maxlen=None)\n",
      "[2024-05-31 09:45:15 +0300][promptflow][INFO] - exporter to prompt flow service is already set, no action needed.\n",
      "2024-05-31 09:45:15 +0300   92486 execution.flow     INFO     Start executing nodes in thread pool mode.\n",
      "2024-05-31 09:45:15 +0300   92486 execution.flow     INFO     Start to run 1 nodes with concurrency level 16.\n",
      "2024-05-31 09:45:15 +0300   92486 execution.flow     INFO     Executing node run_prompty. node run id: e6932349-1a5c-4af0-9915-d61101d17b4c_run_prompty_0\n",
      "2024-05-31 09:45:15 +0300   92486 execution.flow     INFO     [run_prompty in line 0 (index starts from 0)] stdout> /Users/ozgurguler/Developer/Projects/aistudio-workshop-ozguler/code/flow01/creative_writing_assistant.prompty\n",
      "You can view the trace detail from the following URL:\n",
      "http://127.0.0.1:23333/v1.0/ui/traces/?#collection=flow01&uiTraceId=0x11a643599f89c5343b8edfb1bcb9e441\n",
      "2024-05-31 09:45:21 +0300   92486 execution.flow     INFO     Node run_prompty completes.\n",
      "{\n",
      "    \"output_story\": \"Title: The Enigmatic Labyrinth\\n\\nIntroduction:\\nIn the small town of Willow Creek, rumors circulate about a hidden labyrinth deep within the nearby forest. Legend has it that the labyrinth holds a mystical artifact with the power to grant any wish. Four adventurous friends, Jake, Maya, Emma, and Ryan, decide to embark on a journey to uncover the truth behind the mysterious labyrinth.\\n\\nConflict:\\nAs the friends venture into the forest, they encounter a series of puzzling clues and obstacles that test their wits and courage. They soon realize that they are not the only ones searching for the artifact. A notorious treasure hunter named Victor and his team are also after the mythical object, and they will stop at nothing to obtain it.\\n\\nRising Action:\\nJake, Maya, Emma, and Ryan decipher the cryptic hints and navigate the labyrinth's treacherous paths, all while being pursued by Victor and his crew. Along the way, they uncover the labyrinth's secrets and encounter magical creatures that guard the artifact.\\n\\nClimax:\\nIn the heart of the labyrinth, the friends finally reach the chamber where the artifact is said to be. However, they are faced with a moral dilemma: the artifact's power can only be unlocked by sacrificing something dear to them. They must decide whether their wishes are worth the sacrifice.\\n\\nFalling Action:\\nAs the group deliberates, Victor and his crew catch up to them. A tense standoff ensues, with both parties vying for control of the artifact. But just as it seems all hope is lost, the friends come up with a clever plan to outsmart Victor and protect the artifact.\\n\\nResolution:\\nIn a final epic showdown, the friends manage to outwit Victor and secure the artifact. However, instead of using it for their own desires, they decide to keep it hidden within the labyrinth. They realize that the true power lies not in possessing the artifact, but in the journey they undertook together. They return to Willow Creek as heroes, their hearts full of newfound wisdom and friendship. The secret of the labyrinth remains, waiting for another group of adventurers to uncover its mysteries.\"\n",
      "}\n",
      "[2024-05-31 09:45:21 +0300][promptflow][INFO] - Command ran in 7.363 seconds (init: 0.335, invoke: 7.028)\n"
     ]
    }
   ],
   "source": [
    "# Run the flow locally from a Jupyter notebook\n",
    "!pf flow test --flow flow01 --inputs theme=\"Mystery and Adventure\" --verbose\n"
   ]
  },
  {
   "cell_type": "markdown",
   "metadata": {},
   "source": [
    "## Story Review Step \n",
    "\n",
    "### Create a new prompty for story evaluation\n",
    "First add a new prompty that will be used to prompt for the story evaluation.\n",
    "\n",
    "```\n",
    "---\n",
    "name: Story Evaluation\n",
    "description: Evaluate a story based on key dimensions and suggest improvements.\n",
    "model:\n",
    "  api: chat\n",
    "  configuration:\n",
    "    type: azure_openai\n",
    "    azure_deployment: gpt-35-turbo-16k-ozguler04\n",
    "  parameters:\n",
    "    temperature: 0.7\n",
    "    max_tokens: 1500\n",
    "inputs:\n",
    "  story:\n",
    "    type: string\n",
    "sample:\n",
    "  story: \"Once upon a time in a land far away...\"\n",
    "---\n",
    "\n",
    "system:\n",
    "You are an expert story evaluator. Your task is to evaluate the story based on the following dimensions: creativity, coherence, character depth, engagement, and conflict and resolution. Provide scores out of 10 for each dimension and offer detailed suggestions for improvement.\n",
    "\n",
    "user:\n",
    "Story: {{story}}\n",
    "\n",
    "assistant:\n",
    "Creativity: [Provide a score out of 10 and comments]\n",
    "Coherence: [Provide a score out of 10 and comments]\n",
    "Character Depth: [Provide a score out of 10 and comments]\n",
    "Engagement: [Provide a score out of 10 and comments]\n",
    "Conflict and Resolution: [Provide a score out of 10 and comments]\n",
    "\n",
    "Suggestions for Improvement: [Provide detailed suggestions]\n",
    "```\n",
    "\n",
    "### Updating flow.dag.yaml to add a new python tool node for story evaluation\n",
    "Next, we will add a new step in our flow, which will review the story and suggest improvements.\n",
    "\n",
    "Let's first update the flow.dag.yaml which defines our flow itself. \\\n",
    "We will add a new node (a python tool) named evaluate_story_tool, which will load and run a new prompty that will call an LLM to review the generated story. \\\n",
    "\n",
    "\n",
    "```\n",
    "$schema: https://azuremlschemas.azureedge.net/promptflow/latest/Flow.schema.json\n",
    "environment:\n",
    "  python_requirements_txt: requirements.txt\n",
    "inputs:\n",
    "  theme:\n",
    "    type: string\n",
    "outputs:\n",
    "  generated_story:\n",
    "    type: string\n",
    "    reference: ${create_story.output}\n",
    "  evaluation_result:\n",
    "    type: string\n",
    "    reference: ${evaluate_story.output}\n",
    "nodes:\n",
    "- name: create_story\n",
    "  type: python\n",
    "  source:\n",
    "    type: code\n",
    "    path: create_story.py\n",
    "  inputs:\n",
    "    theme: ${inputs.theme}\n",
    "- name: evaluate_story\n",
    "  type: python\n",
    "  source:\n",
    "    type: code\n",
    "    path: evaluate_story.py\n",
    "  inputs:\n",
    "    story: ${create_story.output}\n",
    "```\n",
    "\n",
    "Please note we will output both the created story and the evaluation results. \\\n",
    "Hence above outputs: section include both generations coming from their respective prompts.\n",
    "\n",
    "### Add the new python tool \n",
    "Next create a seperate evaluate_story.py which will be referenced as a python tool that loads and runs the story_evaluation.prompty\n",
    "\n",
    "```\n",
    "from promptflow.core import Prompty, tool\n",
    "from dotenv import load_dotenv\n",
    "import os\n",
    "\n",
    "# Load environment variables if not already set\n",
    "if \"OPENAI_API_KEY\" not in os.environ and \"AZURE_OPENAI_API_KEY\" not in os.environ:\n",
    "    load_dotenv()\n",
    "\n",
    "@tool\n",
    "def evaluate_story(story: str) -> str:\n",
    "    current_dir = os.path.dirname(os.path.abspath(__file__))\n",
    "    evaluation_prompty_file_path = os.path.join(current_dir, \"story_evaluation.prompty\")\n",
    "    print(evaluation_prompty_file_path)\n",
    "\n",
    "    # Load prompty as a flow\n",
    "    evaluation_prompty_flow = Prompty.load(evaluation_prompty_file_path)\n",
    "    evaluation_result = evaluation_prompty_flow(story=story)\n",
    "    \n",
    "    return evaluation_result\n",
    "\n",
    "if __name__ == \"__main__\":\n",
    "    import json\n",
    "    import sys\n",
    "\n",
    "    json_input = sys.argv[1]  # Assume the input is passed as a JSON string\n",
    "    args = json.loads(json_input)\n",
    "\n",
    "    result = evaluate_story(**args)\n",
    "    print(result)\n",
    "\n",
    "```\n",
    "\n",
    "Finally let's run our flow again..."
   ]
  },
  {
   "cell_type": "code",
   "execution_count": 52,
   "metadata": {
    "vscode": {
     "languageId": "shellscript"
    }
   },
   "outputs": [
    {
     "name": "stdout",
     "output_type": "stream",
     "text": [
      "[2024-05-31 10:11:40 +0300][promptflow][INFO] - pf.config.trace.destination: None\n",
      "[2024-05-31 10:11:40 +0300][promptflow][INFO] - resolved tracing.trace.destination: None\n",
      "Prompt flow service has started...\n",
      "[2024-05-31 10:11:40 +0300][promptflow][INFO] - tracer provider is already set, will merge the resource attributes...\n",
      "[2024-05-31 10:11:40 +0300][promptflow][INFO] - tracer provider is updated with resource attributes: BoundedAttributes({'service.name': 'promptflow', 'collection': 'flow01'}, maxlen=None)\n",
      "[2024-05-31 10:11:40 +0300][promptflow][INFO] - have not set exporter to prompt flow service, will set it...\n",
      "[2024-05-31 10:11:40 +0300][promptflow][INFO] - tracer provider is already set, will merge the resource attributes...\n",
      "[2024-05-31 10:11:40 +0300][promptflow][INFO] - tracer provider is updated with resource attributes: BoundedAttributes({'service.name': 'promptflow', 'collection': 'flow01'}, maxlen=None)\n",
      "[2024-05-31 10:11:40 +0300][promptflow][INFO] - exporter to prompt flow service is already set, no action needed.\n",
      "[2024-05-31 10:11:40 +0300][promptflow][INFO] - flow input(s): {'theme': 'Mystery and Adventure'}\n",
      "[2024-05-31 10:11:40 +0300][promptflow][INFO] - tracer provider is already set, will merge the resource attributes...\n",
      "[2024-05-31 10:11:40 +0300][promptflow][INFO] - tracer provider is updated with resource attributes: BoundedAttributes({'service.name': 'promptflow', 'collection': 'flow01'}, maxlen=None)\n",
      "[2024-05-31 10:11:40 +0300][promptflow][INFO] - exporter to prompt flow service is already set, no action needed.\n",
      "2024-05-31 10:11:40 +0300   96619 execution.flow     INFO     Start executing nodes in thread pool mode.\n",
      "2024-05-31 10:11:40 +0300   96619 execution.flow     INFO     Start to run 2 nodes with concurrency level 16.\n",
      "2024-05-31 10:11:40 +0300   96619 execution.flow     INFO     Executing node create_story. node run id: c107dc9a-c1bc-4319-a1e9-19424b2d4df8_create_story_0\n",
      "2024-05-31 10:11:40 +0300   96619 execution.flow     INFO     [create_story in line 0 (index starts from 0)] stdout> /Users/ozgurguler/Developer/Projects/aistudio-workshop-ozguler/code/flow01/creative_writing_assistant.prompty\n",
      "You can view the trace detail from the following URL:\n",
      "http://127.0.0.1:23333/v1.0/ui/traces/?#collection=flow01&uiTraceId=0x4b547fc8b3f1b2dd6b6dfac85bfbc70f\n",
      "2024-05-31 10:11:47 +0300   96619 execution.flow     INFO     Node create_story completes.\n",
      "2024-05-31 10:11:47 +0300   96619 execution.flow     INFO     Executing node evaluate_story. node run id: c107dc9a-c1bc-4319-a1e9-19424b2d4df8_evaluate_story_0\n",
      "2024-05-31 10:11:47 +0300   96619 execution.flow     INFO     [evaluate_story in line 0 (index starts from 0)] stdout> /Users/ozgurguler/Developer/Projects/aistudio-workshop-ozguler/code/flow01/story_evaluation.prompty\n",
      "2024-05-31 10:11:53 +0300   96619 execution.flow     INFO     Node evaluate_story completes.\n",
      "{\n",
      "    \"generated_story\": \"Title: The Enigma of the Lost City\\n\\nIntroduction: \\nIn the heart of the dense Amazon rainforest, a renowned archaeologist, Dr. Amelia Rivers, receives an ancient scroll that reveals the existence of a long-lost city. Determined to uncover its secrets, she assembles a team of experts and sets off on a perilous adventure.\\n\\nConflict: \\nAs they journey deeper into the rainforest, the team faces numerous challenges and unexpected dangers. They encounter treacherous terrain, aggressive wildlife, and a rival group of treasure hunters who will stop at nothing to claim the city's riches for themselves.\\n\\nRising Action: \\nAmidst the dangers, the team discovers cryptic clues left by the ancient civilization, hinting at a powerful artifact hidden within the city's ruins. Each clue brings them closer to their goal but also raises more questions. As they decipher the enigmatic messages, they realize that the artifact holds the key to unlocking a long-forgotten secret capable of changing the course of history.\\n\\nClimax: \\nAfter days of intense exploration, the team finally reaches the hidden entrance of the lost city. Inside, they encounter a series of complex puzzles and traps that guard the artifact. As they navigate the perilous maze, tensions rise within the team, testing their trust and loyalty.\\n\\nFalling Action: \\nWith their combined skills and determination, the team manages to overcome the challenges and reaches the inner chamber. There, they discover the awe-inspiring artifact, but it is not what they expected. Instead of a physical object, they find a holographic projection that reveals the true nature of the city and its purpose.\\n\\nResolution: \\nHaving solved the mystery, the team decides to leave the artifact untouched, realizing that its power could be misused in the wrong hands. They document their findings and make their way back to civilization, forever changed by their adventure. Dr. Amelia Rivers, now renowned for her discovery, vows to continue her quest for knowledge and unravel even more mysteries hidden within the world's depths.\\n\\nIn this mysterious and adventurous tale, the protagonists face danger, unravel hidden secrets, and make profound choices that shape their journey.\",\n",
      "    \"evaluation_result\": \"Creativity: 7/10\\nThe story presents a classic adventure narrative set in the Amazon rainforest, which is a popular and intriguing setting. The concept of a lost city and an artifact with hidden powers adds an element of mystery. However, the story could benefit from more unique or unexpected elements to make it stand out even more. Consider incorporating more original twists or incorporating lesser-known aspects of Amazonian culture and mythology.\\n\\nCoherence: 8/10\\nThe story flows well and the events are logically connected. The introduction sets up the main conflict and the rising action builds upon it as the team faces challenges and discovers clues. The climax and resolution bring a satisfying conclusion to the story. However, some transitions between scenes or chapters could be smoother to enhance coherence. Consider adding more transitional phrases or paragraphs to help guide the reader through the story.\\n\\nCharacter Depth: 6/10\\nWhile the story introduces Dr. Amelia Rivers as the protagonist, there is limited information about her background, motivations, and personal struggles. The other team members are not given much development either. To deepen the characters, consider providing more backstory, exploring their individual strengths and weaknesses, and delving into their personal connections and conflicts. This will make the reader more invested in their journey and choices.\\n\\nEngagement: 8/10\\nThe story is engaging overall, with a good balance of action and mystery. The challenges and dangers faced by the team create tension and suspense. The discovery of cryptic clues and the puzzle-solving aspect add an element of intrigue. However, there are moments where the pacing could be improved to maintain a consistently high level of engagement. Consider tightening the narrative by eliminating any unnecessary or repetitive scenes and dialogue.\\n\\nConflict and Resolution: 9/10\\nThe conflict is well-established with the rival group of treasure hunters posing a threat to the team's mission. The rising action builds tension as the team faces various obstacles and deciphers the clues. The climax, with the team navigating the maze and the tensions within the group, adds an emotional dimension to the conflict. The resolution, with the team deciding not to misuse the artifact's power, brings a satisfying conclusion. However, consider adding a bit more complexity to the conflict by exploring the motivations and backgrounds of the rival treasure hunters, which will make the resolution more impactful.\\n\\nSuggestions for Improvement:\\n1. Introduce more unique or unexpected elements to make the story stand out from other adventure narratives set in the Amazon rainforest.\\n2. Smooth out transitions between scenes or chapters with transitional phrases or paragraphs to enhance coherence.\\n3. Deepen the characters by providing more backstory, exploring their individual strengths and weaknesses, and delving into their personal connections and conflicts.\\n4. Tighten the narrative by eliminating unnecessary or repetitive scenes and dialogue to maintain a consistently high level of engagement.\\n5. Add complexity to the conflict by exploring the motivations and backgrounds of the rival treasure hunters, making the resolution more impactful.\"\n",
      "}\n",
      "[2024-05-31 10:11:53 +0300][promptflow][INFO] - Command ran in 12.445 seconds (init: 0.064, invoke: 12.381)\n"
     ]
    }
   ],
   "source": [
    "# Run the flow locally from a Jupyter notebook\n",
    "!pf flow test --flow flow01 --inputs theme=\"Mystery and Adventure\" --verbose"
   ]
  }
 ],
 "metadata": {
  "kernelspec": {
   "display_name": "Python 3",
   "language": "python",
   "name": "python3"
  },
  "language_info": {
   "codemirror_mode": {
    "name": "ipython",
    "version": 3
   },
   "file_extension": ".py",
   "mimetype": "text/x-python",
   "name": "python",
   "nbconvert_exporter": "python",
   "pygments_lexer": "ipython3",
   "version": "3.11.9"
  }
 },
 "nbformat": 4,
 "nbformat_minor": 2
}
