{
 "cells": [
  {
   "cell_type": "markdown",
   "metadata": {},
   "source": [
    "# Write an App with PromptFlow SDK that leverages a complex flow with multiple steps and Tools \n",
    "\n",
    "In this part of the workshop we will build a more sophisticated app leveraging different flow types and tools on promptflow..."
   ]
  },
  {
   "cell_type": "markdown",
   "metadata": {},
   "source": [
    "## Create a Flow \n",
    "You can create LLM apps using a Python function or class as the entry point, which encapsulating your app logic. You can directly test or run these entries with pure code experience."
   ]
  },
  {
   "cell_type": "code",
   "execution_count": 4,
   "metadata": {
    "vscode": {
     "languageId": "shellscript"
    }
   },
   "outputs": [
    {
     "name": "stdout",
     "output_type": "stream",
     "text": [
      "{\n",
      "  \"promptflow\": \"1.11.0\",\n",
      "  \"promptflow-core\": \"1.11.0\",\n",
      "  \"promptflow-devkit\": \"1.11.0\",\n",
      "  \"promptflow-tracing\": \"1.11.0\"\n",
      "}\n",
      "\n",
      "Executable '/opt/homebrew/opt/python@3.11/bin/python3.11'\n",
      "Python (Darwin) 3.11.9 (main, Apr  2 2024, 08:25:04) [Clang 15.0.0 (clang-1500.3.9.4)]\n"
     ]
    }
   ],
   "source": [
    "# Confirm Promptflow is installed\n",
    "\n",
    "!pf -v\n"
   ]
  },
  {
   "cell_type": "code",
   "execution_count": 7,
   "metadata": {
    "vscode": {
     "languageId": "shellscript"
    }
   },
   "outputs": [
    {
     "name": "stdout",
     "output_type": "stream",
     "text": [
      "Creating flow from scratch...\n",
      "Creating hello.py...\n",
      "Creating data.jsonl...\n",
      "Creating .promptflow folder...\n",
      "Creating __pycache__ folder...\n",
      "Creating flow.dag.yaml...\n",
      "Creating hello.jinja2...\n",
      "Creating /Users/ozgurguler/Developer/Projects/aistudio-workshop-ozguler/code/flow01/requirements.txt...\n",
      "Creating /Users/ozgurguler/Developer/Projects/aistudio-workshop-ozguler/code/flow01/.gitignore...\n",
      "Done. Created standard flow folder: /Users/ozgurguler/Developer/Projects/aistudio-workshop-ozguler/code/flow01.\n",
      "You can execute this command to test the flow, pf flow test --flow flow01 --input flow01/data.jsonl\n"
     ]
    }
   ],
   "source": [
    "# Create a new flow...\n",
    "\n",
    "!pf flow init --flow flow01"
   ]
  },
  {
   "cell_type": "markdown",
   "metadata": {},
   "source": [
    "When we run \"flow init\", it creates a folder with name matching flows name (in this case flow01 folder) with necessary files in it.\n",
    "\n",
    "![Alt text](../media/80.png)\n",
    "\n",
    "Structure of the flow folder:\n",
    "\n",
    "- flow.dag.yaml: The flow definition with inputs/outputs, nodes, tools and variants for authoring purpose. \\\n",
    "It defines the structure and logic of the flow, specifying how different tools are connected and how data is passed between them. \\\n",
    "While defining the flow implicitly in app.py is possible, using a flow.yaml file provides several benefits, including better separation of concerns,\\\n",
    "improved readability and maintainability, enhanced reusability and modularity, and a more declarative approach to defining workflows.\\\n",
    "This separation allows for a cleaner, more organized,\n",
    "\n",
    "\n",
    "- .promptflow/flow.tools.json:  contains the tools meta referenced in flow.dag.yaml.\n",
    "- Source code files (.py, .jinja2): User managed, the code scripts referenced by **tools**.\n",
    "- requirements.txt: Python package dependencies for this flow."
   ]
  },
  {
   "cell_type": "markdown",
   "metadata": {},
   "source": [
    "*(If the PromptFlow extension is installed, you can do CMD + K, V to visualise the flow as in the PromptFlow web UI like below.)*\n",
    "\n",
    "![Alt text](../media/81.png)"
   ]
  },
  {
   "cell_type": "markdown",
   "metadata": {},
   "source": []
  },
  {
   "cell_type": "markdown",
   "metadata": {},
   "source": [
    "We now have the flow skeleton in place, previously created with the *'flow init'* command. \\\n",
    "We will modify the flow so that it has a Python tool step which runs the Prompty file reflecting the recent updates to prompt management in Build,24. \\\n",
    "Let's now update the flow.dag.yaml so that it simply leverages a **python tool** that loads and runs the prompty.prompty. \n",
    "\n",
    "Below is the prompty file for to generate creative writing pieces. \n",
    "(make sure your AOAI endpoint crendtials and base url are added to the .env file in the folder where prompty file is stored.)\n",
    "\n",
    "*creative_writing_assistant.prompty is saved under code/flow01 which you can copy from.*\n",
    "\n",
    "```\n",
    "---\n",
    "name: Creative Writing Assistant\n",
    "description: Generate creative writing prompts and outlines based on a theme.\n",
    "model:\n",
    "  api: chat\n",
    "  configuration:\n",
    "    type: azure_openai\n",
    "    azure_deployment: gpt-35-turbo-16k-ozguler04\n",
    "  parameters:\n",
    "    temperature: 0.7\n",
    "    max_tokens: 2000\n",
    "inputs:\n",
    "  theme:\n",
    "    type: string\n",
    "sample:\n",
    "  theme: \"Mystery and Adventure\"\n",
    "---\n",
    "\n",
    "system:\n",
    "You are an imaginative and supportive creative writing assistant. \n",
    "Your task is to help users generate intriguing writing prompts and provide a brief story outline based on the given theme.\n",
    "\n",
    "user:\n",
    "Theme: {{theme}}\n",
    "\n",
    "assistant:\n",
    "Here is an interesting writing prompt based on the theme \"{{theme}}\":\n",
    "[Generate a complete story here, including an introduction, conflict, rising action, climax, falling action, and resolution, without explicitly labeling these sections.]\n",
    "```\n"
   ]
  },
  {
   "cell_type": "markdown",
   "metadata": {},
   "source": [
    "## Updating the flow.dag.yaml \n",
    "Although we ran the prompty file as a chat app in \"first-pf-sdk-notebook.ipynb\", we will build a more complex app step by step in this notebook. \\\n",
    "Our app will receive a \"theme\" from the user and generate a creative writing piece with users theme. \\\n",
    "\n",
    "Let's start with updating the flow.dag.yaml which to loads and runs the prompty as a promptflow tool. \\\n",
    "*(Refer to the documentation [Using prompty in a flow](https://microsoft.github.io/promptflow/how-to-guides/develop-a-prompty/use-prompty-in-flow.html?highlight=prompty) for more details.)*\n",
    "\n",
    "flow.dag.yaml will accept the \"theme\" as input and will have a single \"node\", a python tool, that will load and run our prompty file. \\\n",
    "copy & paste the below .yaml into flow.dag.yaml.\n",
    "\n",
    "```\n",
    "$schema: https://azuremlschemas.azureedge.net/promptflow/latest/Flow.schema.json\n",
    "environment:\n",
    "  python_requirements_txt: requirements.txt\n",
    "inputs:\n",
    "  theme:\n",
    "    type: string\n",
    "outputs:\n",
    "  output_story:\n",
    "    type: string\n",
    "    reference: ${run_prompty.output}\n",
    "nodes:\n",
    "- name: run_prompty\n",
    "  type: python\n",
    "  source:\n",
    "    type: code\n",
    "    path: prompty_runner.py\n",
    "  inputs:\n",
    "    theme: ${inputs.theme}\n",
    "```"
   ]
  },
  {
   "cell_type": "markdown",
   "metadata": {},
   "source": [
    "## Write the Python 'tool' that will load and execute the Prompty file \n",
    "\n",
    "```\n",
    "from promptflow.core import Prompty\n",
    "from promptflow.core import tool\n",
    "from dotenv import load_dotenv\n",
    "\n",
    "import os\n",
    "\n",
    "@tool\n",
    "def run_prompty_tool(theme: str) -> str:\n",
    "    # Get the directory of this script\n",
    "    current_dir = os.path.dirname(os.path.abspath(__file__))\n",
    "    # Adjust the path to point to the flow01 directory\n",
    "    prompty_file_path = os.path.join(current_dir, \"creative_writing_assistant.prompty\")\n",
    "    print(prompty_file_path)\n",
    "    \n",
    "    if \"OPENAI_API_KEY\" not in os.environ and \"AZURE_OPENAI_API_KEY\" not in os.environ:\n",
    "    # load environment variables from .env file\n",
    "        load_dotenv()\n",
    "\n",
    "    # Load prompty as a flow\n",
    "    prompty_flow = Prompty.load(prompty_file_path)\n",
    "    \n",
    "    \n",
    "    # Execute the flow as a function\n",
    "    result = prompty_flow(theme=theme)\n",
    "    return result\n",
    "\n",
    "if __name__ == \"__main__\":\n",
    "    import json\n",
    "    import sys\n",
    "\n",
    "    json_input = sys.argv[1]  # Assume the input is passed as a JSON string\n",
    "    args = json.loads(json_input)\n",
    "\n",
    "    result = run_prompty(**args)\n",
    "    print(result)\n",
    "```\n",
    "This Python script defines a tool to generate creative writing stories based on a given theme using PromptFlow. \\\n",
    "It imports necessary modules, including Prompty, tool from promptflow.core, and load_dotenv for environment variables. \\\n",
    "The run_prompty_tool function, decorated with @tool, constructs the path to the creative_writing_assistant.prompty file, checks for API keys, and loads environment variables if needed. \\\n",
    "It then loads the Prompty flow and executes it with the provided theme, returning the result. The script also includes a main block to run the function standalone, taking JSON input from the command line and printing the result.\n",
    "\n",
    "Save the file as **prompty_runner.py** so that it matches the .py file name previously defined in the flow.dag.yaml. \\\n",
    "Next let's run the flow..."
   ]
  },
  {
   "cell_type": "markdown",
   "metadata": {},
   "source": []
  },
  {
   "cell_type": "code",
   "execution_count": 40,
   "metadata": {
    "vscode": {
     "languageId": "shellscript"
    }
   },
   "outputs": [
    {
     "name": "stdout",
     "output_type": "stream",
     "text": [
      "[2024-05-31 09:07:47 +0300][promptflow][INFO] - pf.config.trace.destination: None\n",
      "[2024-05-31 09:07:47 +0300][promptflow][INFO] - resolved tracing.trace.destination: None\n",
      "Prompt flow service has started...\n",
      "[2024-05-31 09:07:47 +0300][promptflow][INFO] - tracer provider is already set, will merge the resource attributes...\n",
      "[2024-05-31 09:07:47 +0300][promptflow][INFO] - tracer provider is updated with resource attributes: BoundedAttributes({'service.name': 'promptflow', 'collection': 'flow01'}, maxlen=None)\n",
      "[2024-05-31 09:07:47 +0300][promptflow][INFO] - have not set exporter to prompt flow service, will set it...\n",
      "[2024-05-31 09:07:47 +0300][promptflow][INFO] - tracer provider is already set, will merge the resource attributes...\n",
      "[2024-05-31 09:07:47 +0300][promptflow][INFO] - tracer provider is updated with resource attributes: BoundedAttributes({'service.name': 'promptflow', 'collection': 'flow01'}, maxlen=None)\n",
      "[2024-05-31 09:07:47 +0300][promptflow][INFO] - exporter to prompt flow service is already set, no action needed.\n",
      "[2024-05-31 09:07:47 +0300][promptflow][INFO] - flow input(s): {'theme': 'Mystery and Adventure'}\n",
      "[2024-05-31 09:07:47 +0300][promptflow][INFO] - tracer provider is already set, will merge the resource attributes...\n",
      "[2024-05-31 09:07:47 +0300][promptflow][INFO] - tracer provider is updated with resource attributes: BoundedAttributes({'service.name': 'promptflow', 'collection': 'flow01'}, maxlen=None)\n",
      "[2024-05-31 09:07:47 +0300][promptflow][INFO] - exporter to prompt flow service is already set, no action needed.\n",
      "2024-05-31 09:07:47 +0300   87053 execution.flow     INFO     Start executing nodes in thread pool mode.\n",
      "2024-05-31 09:07:47 +0300   87053 execution.flow     INFO     Start to run 1 nodes with concurrency level 16.\n",
      "2024-05-31 09:07:47 +0300   87053 execution.flow     INFO     Executing node run_prompty. node run id: 1e53881b-9b53-44ea-b884-783db65bf019_run_prompty_0\n",
      "2024-05-31 09:07:47 +0300   87053 execution.flow     INFO     [run_prompty in line 0 (index starts from 0)] stdout> /Users/ozgurguler/Developer/Projects/aistudio-workshop-ozguler/code/flow01/creative_writing_assistant.prompty\n",
      "You can view the trace detail from the following URL:\n",
      "http://127.0.0.1:23333/v1.0/ui/traces/?#collection=flow01&uiTraceId=0x1853ca987a2d66800806713ea853b6df\n",
      "2024-05-31 09:07:53 +0300   87053 execution.flow     INFO     Node run_prompty completes.\n",
      "{\n",
      "    \"output_story\": \"Title: The Enigma of the Forgotten Temple\\n\\nIntroduction:\\nIn a quaint, sleepy village, rumors circulate about a forgotten temple hidden deep within the nearby forest. The temple is said to hold ancient secrets and untold treasures. One day, a young adventurer named Maya overhears these rumors and becomes determined to uncover the truth behind the temple's mysteries.\\n\\nConflict:\\nMaya faces skepticism and disbelief from the villagers, who dismiss the temple as mere folklore. Undeterred, she embarks on her journey alone, armed with only a worn-out map she found in an old library. As Maya delves deeper into the forest, strange occurrences and eerie symbols appear, hinting at the temple's existence.\\n\\nRising Action:\\nMaya encounters a series of puzzles and obstacles, each one leading her closer to the temple. She deciphers cryptic messages, navigates treacherous terrain, and solves ancient riddles. Along the way, she uncovers a dark legend surrounding the temple, warning of a powerful curse that awaits anyone who dares enter.\\n\\nClimax:\\nAfter a grueling journey, Maya finally reaches the entrance of the forgotten temple. Inside, she discovers a labyrinthine maze, filled with booby traps and hidden chambers. Determined to uncover the truth, Maya must use her wits and bravery to overcome each challenge. As she progresses, she learns more about the curse and the temple's true purpose.\\n\\nFalling Action:\\nMaya encounters an unexpected ally, a guardian spirit who reveals the temple's history. She learns that the temple was built to protect a long-lost artifact capable of granting immense power. However, an ancient evil seeks to possess it, and the curse was created to ward off those who would misuse its power.\\n\\nResolution:\\nIn a climactic showdown, Maya confronts the ancient evil, using her knowledge of the temple's puzzles to outsmart it. With the artifact secured, Maya breaks the curse, freeing the temple from its dark shadow. She emerges as a hero, returning to the village with newfound wisdom and a sense of adventure. Maya's journey not only unraveled the mysteries of the forgotten temple but also taught her the importance of perseverance and the rewards of embracing the unknown.\\n\\nWriting Prompt: Write a story about a young adventurer who stumbles upon a long-lost treasure map that leads them to a mysterious island. As they explore the island, they encounter unexpected challenges, uncover hidden secrets, and ultimately discover the true meaning of the treasure.\"\n",
      "}\n",
      "[2024-05-31 09:07:53 +0300][promptflow][INFO] - Command ran in 5.796 seconds (init: 0.090, invoke: 5.706)\n"
     ]
    }
   ],
   "source": [
    "# Run the flow locally from a Jupyter notebook\n",
    "!pf flow test --flow flow01 --inputs theme=\"Mystery and Adventure\" --verbose\n"
   ]
  }
 ],
 "metadata": {
  "kernelspec": {
   "display_name": "Python 3",
   "language": "python",
   "name": "python3"
  },
  "language_info": {
   "codemirror_mode": {
    "name": "ipython",
    "version": 3
   },
   "file_extension": ".py",
   "mimetype": "text/x-python",
   "name": "python",
   "nbconvert_exporter": "python",
   "pygments_lexer": "ipython3",
   "version": "3.11.9"
  }
 },
 "nbformat": 4,
 "nbformat_minor": 2
}
