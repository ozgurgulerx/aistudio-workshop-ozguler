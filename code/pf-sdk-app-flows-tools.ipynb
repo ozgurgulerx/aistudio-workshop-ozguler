{
 "cells": [
  {
   "cell_type": "markdown",
   "metadata": {},
   "source": [
    "# Write an App with PromptFlow SDK that leverages a complex flow with multiple steps and Tools \n",
    "\n",
    "In this part of the workshop we will build a more sophisticated app leveraging different flow types and tools on promptflow..."
   ]
  },
  {
   "cell_type": "markdown",
   "metadata": {},
   "source": [
    "## Create a Flow \n",
    "You can create LLM apps using a Python function or class as the entry point, which encapsulating your app logic. You can directly test or run these entries with pure code experience."
   ]
  },
  {
   "cell_type": "code",
   "execution_count": 4,
   "metadata": {
    "vscode": {
     "languageId": "shellscript"
    }
   },
   "outputs": [
    {
     "name": "stdout",
     "output_type": "stream",
     "text": [
      "{\n",
      "  \"promptflow\": \"1.11.0\",\n",
      "  \"promptflow-core\": \"1.11.0\",\n",
      "  \"promptflow-devkit\": \"1.11.0\",\n",
      "  \"promptflow-tracing\": \"1.11.0\"\n",
      "}\n",
      "\n",
      "Executable '/opt/homebrew/opt/python@3.11/bin/python3.11'\n",
      "Python (Darwin) 3.11.9 (main, Apr  2 2024, 08:25:04) [Clang 15.0.0 (clang-1500.3.9.4)]\n"
     ]
    }
   ],
   "source": [
    "# Confirm Promptflow is installed\n",
    "\n",
    "!pf -v\n"
   ]
  },
  {
   "cell_type": "code",
   "execution_count": 7,
   "metadata": {
    "vscode": {
     "languageId": "shellscript"
    }
   },
   "outputs": [
    {
     "name": "stdout",
     "output_type": "stream",
     "text": [
      "Creating flow from scratch...\n",
      "Creating hello.py...\n",
      "Creating data.jsonl...\n",
      "Creating .promptflow folder...\n",
      "Creating __pycache__ folder...\n",
      "Creating flow.dag.yaml...\n",
      "Creating hello.jinja2...\n",
      "Creating /Users/ozgurguler/Developer/Projects/aistudio-workshop-ozguler/code/flow01/requirements.txt...\n",
      "Creating /Users/ozgurguler/Developer/Projects/aistudio-workshop-ozguler/code/flow01/.gitignore...\n",
      "Done. Created standard flow folder: /Users/ozgurguler/Developer/Projects/aistudio-workshop-ozguler/code/flow01.\n",
      "You can execute this command to test the flow, pf flow test --flow flow01 --input flow01/data.jsonl\n"
     ]
    }
   ],
   "source": [
    "# Create a new flow...\n",
    "\n",
    "!pf flow init --flow flow01"
   ]
  },
  {
   "cell_type": "markdown",
   "metadata": {},
   "source": [
    "When we run \"flow init\", it creates a folder with name matching flows name (in this case flow01 folder) with necessary files in it.\n",
    "\n",
    "![Alt text](../media/80.png)\n",
    "\n",
    "Structure of the flow folder:\n",
    "\n",
    "- flow.dag.yaml: The flow definition with inputs/outputs, nodes, tools and variants for authoring purpose. \\\n",
    "It defines the structure and logic of the flow, specifying how different tools are connected and how data is passed between them. \\\n",
    "While defining the flow implicitly in app.py is possible, using a flow.yaml file provides several benefits, including better separation of concerns,\\\n",
    "improved readability and maintainability, enhanced reusability and modularity, and a more declarative approach to defining workflows.\\\n",
    "This separation allows for a cleaner, more organized,\n",
    "\n",
    "\n",
    "- .promptflow/flow.tools.json:  contains the tools meta referenced in flow.dag.yaml.\n",
    "- Source code files (.py, .jinja2): User managed, the code scripts referenced by **tools**.\n",
    "- requirements.txt: Python package dependencies for this flow."
   ]
  },
  {
   "cell_type": "markdown",
   "metadata": {},
   "source": [
    "*(If the PromptFlow extension is installed, you can do CMD + K, V to visualise the flow as in the PromptFlow web UI like below.)*\n",
    "\n",
    "![Alt text](../media/81.png)"
   ]
  },
  {
   "cell_type": "markdown",
   "metadata": {},
   "source": []
  },
  {
   "cell_type": "markdown",
   "metadata": {},
   "source": [
    "We now have the flow skeleton in place, previously created with the *'flow init'* command. \\\n",
    "We will modify the flow so that it has a Python tool step which runs the Prompty file reflecting the recent updates to prompt management in Build,24. \\\n",
    "Let's now update the flow.dag.yaml so that it simply leverages a **python tool** that loads and runs the prompty.prompty. \n",
    "\n",
    "Below is the prompty file for to generate creative writing pieces. \n",
    "(make sure your AOAI endpoint crendtials and base url are added to the .env file in the folder where prompty file is stored.)\n",
    "\n",
    "*creative_writing_assistant.prompty is saved under code/flow01 which you can copy from.*\n",
    "\n",
    "```\n",
    "---\n",
    "name: Creative Writing Assistant\n",
    "description: Generate creative writing prompts and outlines based on a theme.\n",
    "model:\n",
    "  api: chat\n",
    "  configuration:\n",
    "    type: azure_openai\n",
    "    azure_deployment: gpt-35-turbo-16k-ozguler04\n",
    "  parameters:\n",
    "    temperature: 0.7\n",
    "    max_tokens: 2000\n",
    "inputs:\n",
    "  theme:\n",
    "    type: string\n",
    "sample:\n",
    "  theme: \"Mystery and Adventure\"\n",
    "---\n",
    "\n",
    "system:\n",
    "You are an imaginative and supportive creative writing assistant. \n",
    "Your task is to help users generate intriguing writing prompts and provide a brief story outline based on the given theme.\n",
    "\n",
    "user:\n",
    "Theme: {{theme}}\n",
    "\n",
    "assistant:\n",
    "Here is an interesting writing prompt based on the theme \"{{theme}}\":\n",
    "\n",
    "**Writing Prompt:**\n",
    "[Insert creative writing prompt here]\n",
    "\n",
    "**Story Outline:**\n",
    "1. **Introduction:**\n",
    "   - [Introduce main characters and setting]\n",
    "2. **Conflict:**\n",
    "   - [Describe the main conflict or mystery]\n",
    "3. **Rising Action:**\n",
    "   - [Outline key events that build up to the climax]\n",
    "4. **Climax:**\n",
    "   - [Describe the most intense moment of the story]\n",
    "5. **Falling Action:**\n",
    "   - [Outline events leading towards the resolution]\n",
    "6. **Resolution:**\n",
    "   - [Describe how the story ends and the conflict is resolved]\n",
    "```\n"
   ]
  },
  {
   "cell_type": "markdown",
   "metadata": {},
   "source": [
    "## Updating the flow.dag.yaml \n",
    "Although we ran the prompty file as a chat app in \"first-pf-sdk-notebook.ipynb\", we will build a more complex app step by step in this notebook. \\\n",
    "Our app will receive a \"theme\" from the user and generate a creative writing piece with users theme. \\\n",
    "\n",
    "Let's start with updating the flow.dag.yaml which to loads and runs the prompty as a promptflow tool. \\\n",
    "*(Refer to the documentation [Using prompty in a flow](https://microsoft.github.io/promptflow/how-to-guides/develop-a-prompty/use-prompty-in-flow.html?highlight=prompty) for more details.)*\n",
    "\n",
    "flow.dag.yaml will accept the \"theme\" as input and will have a single \"node\", a python tool, that will load and run our prompty file. \\\n",
    "copy & paste the below .yaml into flow.dag.yaml.\n",
    "\n",
    "```\n",
    "$schema: https://azuremlschemas.azureedge.net/promptflow/latest/Flow.schema.json\n",
    "environment:\n",
    "  python_requirements_txt: requirements.txt\n",
    "inputs:\n",
    "  theme:\n",
    "    type: string\n",
    "outputs:\n",
    "  output_story:\n",
    "    type: string\n",
    "    reference: ${run_prompty.output}\n",
    "nodes:\n",
    "- name: run_prompty\n",
    "  type: python\n",
    "  source:\n",
    "    type: code\n",
    "    path: prompty_runner.py\n",
    "  inputs:\n",
    "    theme: ${inputs.theme}\n",
    "```"
   ]
  },
  {
   "cell_type": "markdown",
   "metadata": {},
   "source": [
    "## Write the Python 'tool' that will load and execute the Prompty file \n",
    "\n",
    "```\n",
    "from promptflow.core import Prompty\n",
    "import os\n",
    "\n",
    "def run_prompty(theme):\n",
    "    # Get the directory of this script\n",
    "    current_dir = os.path.dirname(os.path.abspath(__file__))\n",
    "    prompty_file_path = os.path.join(current_dir, \"creative_writing_assistant.prompty\")\n",
    "    \n",
    "    # Load prompty as a flow\n",
    "    prompty_flow = Prompty.load(prompty_file_path)\n",
    "    \n",
    "    # Execute the flow as a function\n",
    "    result = prompty_flow(theme=theme)\n",
    "    return result\n",
    "\n",
    "if __name__ == \"__main__\":\n",
    "    import json\n",
    "    import sys\n",
    "\n",
    "    json_input = sys.argv[1]  # Assume the input is passed as a JSON string\n",
    "    args = json.loads(json_input)\n",
    "\n",
    "    result = run_prompty(**args)\n",
    "    print(result)\n",
    "\n",
    "```\n",
    "\n",
    "Save the file as **prompty_runner.py** so that it matches the .py file name previously defined in the flow.dag.yaml. \\\n",
    "Next let's run the flow..."
   ]
  },
  {
   "cell_type": "code",
   "execution_count": 31,
   "metadata": {
    "vscode": {
     "languageId": "shellscript"
    }
   },
   "outputs": [
    {
     "name": "stdout",
     "output_type": "stream",
     "text": [
      "[2024-05-31 08:42:23 +0300][promptflow][INFO] - pf.config.trace.destination: None\n",
      "[2024-05-31 08:42:23 +0300][promptflow][INFO] - resolved tracing.trace.destination: None\n",
      "Prompt flow service has started...\n",
      "[2024-05-31 08:42:23 +0300][promptflow][INFO] - tracer provider is already set, will merge the resource attributes...\n",
      "[2024-05-31 08:42:23 +0300][promptflow][INFO] - tracer provider is updated with resource attributes: BoundedAttributes({'service.name': 'promptflow', 'collection': 'flow01'}, maxlen=None)\n",
      "[2024-05-31 08:42:23 +0300][promptflow][INFO] - have not set exporter to prompt flow service, will set it...\n",
      "[2024-05-31 08:42:23 +0300][promptflow][INFO] - Command ran in 0.550 seconds (init: 0.405, invoke: 0.145)\n",
      "\u001b[31mpf.flow.test failed with NoToolDefined: No tool found in the python script. Please make sure you have one and only one tool definition in your script.\u001b[0m\n",
      "\u001b[0m\u001b[0m"
     ]
    }
   ],
   "source": [
    "# Run the flow locally from a Jupyter notebook\n",
    "!pf flow test --flow flow01 --inputs theme=\"Mystery and Adventure\" --verbose\n"
   ]
  }
 ],
 "metadata": {
  "kernelspec": {
   "display_name": "Python 3",
   "language": "python",
   "name": "python3"
  },
  "language_info": {
   "codemirror_mode": {
    "name": "ipython",
    "version": 3
   },
   "file_extension": ".py",
   "mimetype": "text/x-python",
   "name": "python",
   "nbconvert_exporter": "python",
   "pygments_lexer": "ipython3",
   "version": "3.11.9"
  }
 },
 "nbformat": 4,
 "nbformat_minor": 2
}
