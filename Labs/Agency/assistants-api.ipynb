{
 "cells": [
  {
   "cell_type": "markdown",
   "metadata": {},
   "source": [
    "# AZURE OPENAI ASSISTANTS API \n",
    "\n",
    "Assistants API is the **stateful evolution of the the chat completions API** that aims to mitigate the complexity of working with a stateless API e.g. managing conversation state, context window management, tool integrations, retrieval documents and indexes and executing code manually...\n",
    "\n",
    "With Assistants API you can create applications with sophisticated copilot-like experiences that can sift through data, suggest solutions, and automate tasks.\n",
    "Assistants can call models with specific instructions e.g. to adopt persona & tone, access multiple  Azure hosted or third party API's as tools or even PromptFlow flow apps, use persistent threads for message history, and manage files in various formats.\n",
    "\n",
    "Refer to [Assistants API documentation](https://learn.microsoft.com/en-us/azure/ai-services/openai/concepts/assistants) and the [Assistants API How to Guides](https://learn.microsoft.com/en-us/azure/ai-services/openai/how-to/assistant) for more information...\n",
    "\n",
    "You can experiment with the Assistants API in Azure OpenAI playground...\n",
    "\n",
    "![Alt text](../../media/90.png)\n",
    "\n",
    "\n",
    "\n",
    "\n"
   ]
  }
 ],
 "metadata": {
  "kernelspec": {
   "display_name": "Python 3",
   "language": "python",
   "name": "python3"
  },
  "language_info": {
   "name": "python",
   "version": "3.11.9"
  }
 },
 "nbformat": 4,
 "nbformat_minor": 2
}
